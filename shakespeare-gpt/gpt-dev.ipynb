{
 "cells": [
  {
   "cell_type": "markdown",
   "source": [
    "Code implementation based on the [video tutorial](https://www.youtube.com/watch?v=kCc8FmEb1nY&list=WL&index=6) provided by Andrej Karpathy."
   ],
   "metadata": {
    "collapsed": false
   },
   "id": "74e66d388e7eaaed"
  },
  {
   "cell_type": "code",
   "outputs": [],
   "source": [
    "# Imports\n",
    "import os\n",
    "import wget\n",
    "import torch\n",
    "import torch.nn as nn\n",
    "from torch.nn import functional as F"
   ],
   "metadata": {
    "collapsed": false,
    "ExecuteTime": {
     "end_time": "2024-06-20T00:54:42.858268Z",
     "start_time": "2024-06-20T00:54:42.853122Z"
    }
   },
   "id": "ba0ae206150c54e7",
   "execution_count": 36
  },
  {
   "cell_type": "code",
   "outputs": [],
   "source": [
    "# Download the Shakespeare dataset and save as input.txt if file doesn't exist.\n",
    "if 'input.txt' not in os.listdir():\n",
    "    url = 'https://raw.githubusercontent.com/karpathy/char-rnn/master/data/tinyshakespeare/input.txt'\n",
    "    wget.download(url, 'input.txt')\n",
    "    print('Downloaded input.txt')"
   ],
   "metadata": {
    "collapsed": false,
    "ExecuteTime": {
     "end_time": "2024-06-20T00:54:42.866053Z",
     "start_time": "2024-06-20T00:54:42.863514Z"
    }
   },
   "id": "fb6cc235a58c401",
   "execution_count": 37
  },
  {
   "cell_type": "code",
   "outputs": [
    {
     "name": "stdout",
     "output_type": "stream",
     "text": [
      "length of dataset in characters:  1115394\n"
     ]
    }
   ],
   "source": [
    "# read it in to inspect it\n",
    "with open('input.txt', 'r') as f:\n",
    "    text = f.read()\n",
    "print(\"length of dataset in characters: \", len(text))"
   ],
   "metadata": {
    "collapsed": false,
    "ExecuteTime": {
     "end_time": "2024-06-20T00:54:42.885713Z",
     "start_time": "2024-06-20T00:54:42.879794Z"
    }
   },
   "id": "b4c4ffbdb8985841",
   "execution_count": 38
  },
  {
   "cell_type": "code",
   "outputs": [
    {
     "name": "stdout",
     "output_type": "stream",
     "text": [
      "First Citizen:\n",
      "Before we proceed any further, hear me speak.\n",
      "\n",
      "All:\n",
      "Speak, speak.\n",
      "\n",
      "First Citizen:\n",
      "You are all resolved rather to die than to famish?\n",
      "\n",
      "All:\n",
      "Resolved. resolved.\n",
      "\n",
      "First Citizen:\n",
      "First, you know Caius Marcius is chief enemy to the people.\n",
      "\n",
      "All:\n",
      "We know't, we know't.\n",
      "\n",
      "First Citizen:\n",
      "Let us kill him, and we'll have corn at our own price.\n",
      "Is't a verdict?\n",
      "\n",
      "All:\n",
      "No more talking on't; let it be done: away, away!\n",
      "\n",
      "Second Citizen:\n",
      "One word, good citizens.\n",
      "\n",
      "First Citizen:\n",
      "We are accounted poor citizens, the patricians good.\n",
      "What authority surfeits on would relieve us: if they\n",
      "would yield us but the superfluity, while it were\n",
      "wholesome, we might guess they relieved us humanely;\n",
      "but they think we are too dear: the leanness that\n",
      "afflicts us, the object of our misery, is as an\n",
      "inventory to particularise their abundance; our\n",
      "sufferance is a gain to them Let us revenge this with\n",
      "our pikes, ere we become rakes: for the gods know I\n",
      "speak this in hunger for bread, not in thirst for revenge.\n"
     ]
    }
   ],
   "source": [
    "# let's look at the first 1000 characters\n",
    "print(text[:1000])"
   ],
   "metadata": {
    "collapsed": false,
    "ExecuteTime": {
     "end_time": "2024-06-20T00:54:42.889153Z",
     "start_time": "2024-06-20T00:54:42.886884Z"
    }
   },
   "id": "9eec7225f33fb9c4",
   "execution_count": 39
  },
  {
   "cell_type": "code",
   "outputs": [
    {
     "name": "stdout",
     "output_type": "stream",
     "text": [
      "\n",
      " !$&',-.3:;?ABCDEFGHIJKLMNOPQRSTUVWXYZabcdefghijklmnopqrstuvwxyz\n",
      "65\n"
     ]
    }
   ],
   "source": [
    "# Here are all the unique characters that occur in this text.\n",
    "# This approach creates a vocabulary where each character is a token. ChatGPT and other\n",
    "# language models usually use a sub-word vocabulary, which trades-off between large input \n",
    "# context window and large vocabulary vectors\n",
    "chars = sorted(list(set(text)))\n",
    "vocab_size = len(chars)\n",
    "print(''.join(chars))\n",
    "print(vocab_size)"
   ],
   "metadata": {
    "collapsed": false,
    "ExecuteTime": {
     "end_time": "2024-06-20T00:54:42.901344Z",
     "start_time": "2024-06-20T00:54:42.890749Z"
    }
   },
   "id": "6154ed643008a066",
   "execution_count": 40
  },
  {
   "cell_type": "code",
   "outputs": [
    {
     "name": "stdout",
     "output_type": "stream",
     "text": [
      "[46, 47, 47, 1, 58, 46, 43, 56, 43]\n",
      "hii there\n"
     ]
    }
   ],
   "source": [
    "# Strategy to tokenize the text into a vector of integers, where each integer represents a character\n",
    "# from the vocabulary. The encode method converts the character into its integer representation, while\n",
    "# the decode method converts the integer back to the character. Both methods accept vectors of characters\n",
    "# or integers, respectively. stoi and itos are lookup tables used for conversion.\n",
    "stoi = {ch: i for i, ch in enumerate(chars)}  # String to Integer (stoi)\n",
    "itos = {i: ch for i, ch in enumerate(chars)}  # Integer to String (itos)\n",
    "encode = lambda s: [stoi[ch] for ch in s]\n",
    "decode = lambda l: ''.join([itos[i] for i in l])\n",
    "\n",
    "print(encode(\"hii there\"))\n",
    "print(decode(encode(\"hii there\")))"
   ],
   "metadata": {
    "collapsed": false,
    "ExecuteTime": {
     "end_time": "2024-06-20T00:54:42.905722Z",
     "start_time": "2024-06-20T00:54:42.903007Z"
    }
   },
   "id": "bd9e6af53399ebc3",
   "execution_count": 41
  },
  {
   "cell_type": "code",
   "outputs": [
    {
     "name": "stdout",
     "output_type": "stream",
     "text": [
      "torch.Size([1115394]) torch.int64\n",
      "tensor([18, 47, 56, 57, 58,  1, 15, 47, 58, 47, 64, 43, 52, 10,  0, 14, 43, 44,\n",
      "        53, 56, 43,  1, 61, 43,  1, 54, 56, 53, 41, 43, 43, 42,  1, 39, 52, 63,\n",
      "         1, 44, 59, 56, 58, 46, 43, 56,  6,  1, 46, 43, 39, 56,  1, 51, 43,  1,\n",
      "        57, 54, 43, 39, 49,  8,  0,  0, 13, 50, 50, 10,  0, 31, 54, 43, 39, 49,\n",
      "         6,  1, 57, 54, 43, 39, 49,  8,  0,  0, 18, 47, 56, 57, 58,  1, 15, 47,\n",
      "        58, 47, 64, 43, 52, 10,  0, 37, 53, 59,  1, 39, 56, 43,  1, 39, 50, 50,\n",
      "         1, 56, 43, 57, 53, 50, 60, 43, 42,  1, 56, 39, 58, 46, 43, 56,  1, 58,\n",
      "        53,  1, 42, 47, 43,  1, 58, 46, 39, 52,  1, 58, 53,  1, 44, 39, 51, 47,\n",
      "        57, 46, 12,  0,  0, 13, 50, 50, 10,  0, 30, 43, 57, 53, 50, 60, 43, 42,\n",
      "         8,  1, 56, 43, 57, 53, 50, 60, 43, 42,  8,  0,  0, 18, 47, 56, 57, 58,\n",
      "         1, 15, 47, 58, 47, 64, 43, 52, 10,  0, 18, 47, 56, 57, 58,  6,  1, 63,\n",
      "        53, 59,  1, 49, 52, 53, 61,  1, 15, 39, 47, 59, 57,  1, 25, 39, 56, 41,\n",
      "        47, 59, 57,  1, 47, 57,  1, 41, 46, 47, 43, 44,  1, 43, 52, 43, 51, 63,\n",
      "         1, 58, 53,  1, 58, 46, 43,  1, 54, 43, 53, 54, 50, 43,  8,  0,  0, 13,\n",
      "        50, 50, 10,  0, 35, 43,  1, 49, 52, 53, 61,  5, 58,  6,  1, 61, 43,  1,\n",
      "        49, 52, 53, 61,  5, 58,  8,  0,  0, 18, 47, 56, 57, 58,  1, 15, 47, 58,\n",
      "        47, 64, 43, 52, 10,  0, 24, 43, 58,  1, 59, 57,  1, 49, 47, 50, 50,  1,\n",
      "        46, 47, 51,  6,  1, 39, 52, 42,  1, 61, 43,  5, 50, 50,  1, 46, 39, 60,\n",
      "        43,  1, 41, 53, 56, 52,  1, 39, 58,  1, 53, 59, 56,  1, 53, 61, 52,  1,\n",
      "        54, 56, 47, 41, 43,  8,  0, 21, 57,  5, 58,  1, 39,  1, 60, 43, 56, 42,\n",
      "        47, 41, 58, 12,  0,  0, 13, 50, 50, 10,  0, 26, 53,  1, 51, 53, 56, 43,\n",
      "         1, 58, 39, 50, 49, 47, 52, 45,  1, 53, 52,  5, 58, 11,  1, 50, 43, 58,\n",
      "         1, 47, 58,  1, 40, 43,  1, 42, 53, 52, 43, 10,  1, 39, 61, 39, 63,  6,\n",
      "         1, 39, 61, 39, 63,  2,  0,  0, 31, 43, 41, 53, 52, 42,  1, 15, 47, 58,\n",
      "        47, 64, 43, 52, 10,  0, 27, 52, 43,  1, 61, 53, 56, 42,  6,  1, 45, 53,\n",
      "        53, 42,  1, 41, 47, 58, 47, 64, 43, 52, 57,  8,  0,  0, 18, 47, 56, 57,\n",
      "        58,  1, 15, 47, 58, 47, 64, 43, 52, 10,  0, 35, 43,  1, 39, 56, 43,  1,\n",
      "        39, 41, 41, 53, 59, 52, 58, 43, 42,  1, 54, 53, 53, 56,  1, 41, 47, 58,\n",
      "        47, 64, 43, 52, 57,  6,  1, 58, 46, 43,  1, 54, 39, 58, 56, 47, 41, 47,\n",
      "        39, 52, 57,  1, 45, 53, 53, 42,  8,  0, 35, 46, 39, 58,  1, 39, 59, 58,\n",
      "        46, 53, 56, 47, 58, 63,  1, 57, 59, 56, 44, 43, 47, 58, 57,  1, 53, 52,\n",
      "         1, 61, 53, 59, 50, 42,  1, 56, 43, 50, 47, 43, 60, 43,  1, 59, 57, 10,\n",
      "         1, 47, 44,  1, 58, 46, 43, 63,  0, 61, 53, 59, 50, 42,  1, 63, 47, 43,\n",
      "        50, 42,  1, 59, 57,  1, 40, 59, 58,  1, 58, 46, 43,  1, 57, 59, 54, 43,\n",
      "        56, 44, 50, 59, 47, 58, 63,  6,  1, 61, 46, 47, 50, 43,  1, 47, 58,  1,\n",
      "        61, 43, 56, 43,  0, 61, 46, 53, 50, 43, 57, 53, 51, 43,  6,  1, 61, 43,\n",
      "         1, 51, 47, 45, 46, 58,  1, 45, 59, 43, 57, 57,  1, 58, 46, 43, 63,  1,\n",
      "        56, 43, 50, 47, 43, 60, 43, 42,  1, 59, 57,  1, 46, 59, 51, 39, 52, 43,\n",
      "        50, 63, 11,  0, 40, 59, 58,  1, 58, 46, 43, 63,  1, 58, 46, 47, 52, 49,\n",
      "         1, 61, 43,  1, 39, 56, 43,  1, 58, 53, 53,  1, 42, 43, 39, 56, 10,  1,\n",
      "        58, 46, 43,  1, 50, 43, 39, 52, 52, 43, 57, 57,  1, 58, 46, 39, 58,  0,\n",
      "        39, 44, 44, 50, 47, 41, 58, 57,  1, 59, 57,  6,  1, 58, 46, 43,  1, 53,\n",
      "        40, 48, 43, 41, 58,  1, 53, 44,  1, 53, 59, 56,  1, 51, 47, 57, 43, 56,\n",
      "        63,  6,  1, 47, 57,  1, 39, 57,  1, 39, 52,  0, 47, 52, 60, 43, 52, 58,\n",
      "        53, 56, 63,  1, 58, 53,  1, 54, 39, 56, 58, 47, 41, 59, 50, 39, 56, 47,\n",
      "        57, 43,  1, 58, 46, 43, 47, 56,  1, 39, 40, 59, 52, 42, 39, 52, 41, 43,\n",
      "        11,  1, 53, 59, 56,  0, 57, 59, 44, 44, 43, 56, 39, 52, 41, 43,  1, 47,\n",
      "        57,  1, 39,  1, 45, 39, 47, 52,  1, 58, 53,  1, 58, 46, 43, 51,  1, 24,\n",
      "        43, 58,  1, 59, 57,  1, 56, 43, 60, 43, 52, 45, 43,  1, 58, 46, 47, 57,\n",
      "         1, 61, 47, 58, 46,  0, 53, 59, 56,  1, 54, 47, 49, 43, 57,  6,  1, 43,\n",
      "        56, 43,  1, 61, 43,  1, 40, 43, 41, 53, 51, 43,  1, 56, 39, 49, 43, 57,\n",
      "        10,  1, 44, 53, 56,  1, 58, 46, 43,  1, 45, 53, 42, 57,  1, 49, 52, 53,\n",
      "        61,  1, 21,  0, 57, 54, 43, 39, 49,  1, 58, 46, 47, 57,  1, 47, 52,  1,\n",
      "        46, 59, 52, 45, 43, 56,  1, 44, 53, 56,  1, 40, 56, 43, 39, 42,  6,  1,\n",
      "        52, 53, 58,  1, 47, 52,  1, 58, 46, 47, 56, 57, 58,  1, 44, 53, 56,  1,\n",
      "        56, 43, 60, 43, 52, 45, 43,  8,  0,  0])\n"
     ]
    }
   ],
   "source": [
    "# Now we encode the entire text dataset and store it into a torch.Tensor variable.\n",
    "data = torch.tensor(encode(text), dtype=torch.long)\n",
    "print(data.shape, data.dtype)\n",
    "# This is the data format GPT will look at, the number representation for each character\n",
    "# notice how in the output 1s probably represent spaces.\n",
    "print(data[:1000])"
   ],
   "metadata": {
    "collapsed": false,
    "ExecuteTime": {
     "end_time": "2024-06-20T00:54:42.989805Z",
     "start_time": "2024-06-20T00:54:42.906393Z"
    }
   },
   "id": "752b127d45feb2eb",
   "execution_count": 42
  },
  {
   "cell_type": "code",
   "outputs": [],
   "source": [
    "# Splits the data into a training and validation sets\n",
    "n = int(0.9 * len(data))  # 90% of the data for training, rest for validation\n",
    "train_data = data[:n]\n",
    "val_data = data[n:]"
   ],
   "metadata": {
    "collapsed": false,
    "ExecuteTime": {
     "end_time": "2024-06-20T00:54:42.992618Z",
     "start_time": "2024-06-20T00:54:42.990647Z"
    }
   },
   "id": "8e7034bb098bd99f",
   "execution_count": 43
  },
  {
   "cell_type": "code",
   "outputs": [
    {
     "name": "stdout",
     "output_type": "stream",
     "text": [
      "Example of trainable block: tensor([18, 47, 56, 57, 58,  1, 15, 47, 58])\n",
      "when input is tensor([18]) the target is 47\n",
      "when input is tensor([18, 47]) the target is 56\n",
      "when input is tensor([18, 47, 56]) the target is 57\n",
      "when input is tensor([18, 47, 56, 57]) the target is 58\n",
      "when input is tensor([18, 47, 56, 57, 58]) the target is 1\n",
      "when input is tensor([18, 47, 56, 57, 58,  1]) the target is 15\n",
      "when input is tensor([18, 47, 56, 57, 58,  1, 15]) the target is 47\n",
      "when input is tensor([18, 47, 56, 57, 58,  1, 15, 47]) the target is 58\n"
     ]
    }
   ],
   "source": [
    "# For training the model we use sampled chunks of the training set (data variable) and never the entire dataset, \n",
    "# because it would be computationally expensive to use the entire set. To define the maximum chunk size the\n",
    "# variable block_size size defines the maximum length of characters a block can have. This value can be adjusted,\n",
    "# but Andrej usually uses 8.\n",
    "block_size = 8\n",
    "# Notice the blocks are inclusive regarding the last character. In a block for training each additional character\n",
    "# represents another training sample, because we reuse the same vector by incrementing the prediction of the next\n",
    "# character. So in a training block of size 9, we have 8 training samples, each one trying to predict the next char.\n",
    "print(\"Example of trainable block:\", train_data[:block_size + 1])\n",
    "\n",
    "# Example of training samples within a single block of size 8. Blocks are not only defined for computational reasons, but also\n",
    "# to make sure the model learns to predict since a small context (1 char) up to a larger context (8 chars). So the transformer\n",
    "# learns to sample during generation from the first character.\n",
    "x = train_data[:block_size]\n",
    "y = train_data[1:block_size + 1]\n",
    "for t in range(block_size):\n",
    "    context = x[:t + 1]\n",
    "    target = y[t]  # P(target | context)\n",
    "    print(f\"when input is {context} the target is {target}\")"
   ],
   "metadata": {
    "collapsed": false,
    "ExecuteTime": {
     "end_time": "2024-06-20T00:54:42.997467Z",
     "start_time": "2024-06-20T00:54:42.993348Z"
    }
   },
   "id": "113443f39b75728e",
   "execution_count": 44
  },
  {
   "cell_type": "code",
   "outputs": [
    {
     "name": "stdout",
     "output_type": "stream",
     "text": [
      "inputs: torch.Size([4, 8]) tensor([[24, 43, 58,  5, 57,  1, 46, 43],\n",
      "        [44, 53, 56,  1, 58, 46, 39, 58],\n",
      "        [52, 58,  1, 58, 46, 39, 58,  1],\n",
      "        [25, 17, 27, 10,  0, 21,  1, 54]])\n",
      "targets: torch.Size([4, 8]) tensor([[43, 58,  5, 57,  1, 46, 43, 39],\n",
      "        [53, 56,  1, 58, 46, 39, 58,  1],\n",
      "        [58,  1, 58, 46, 39, 58,  1, 46],\n",
      "        [17, 27, 10,  0, 21,  1, 54, 39]])\n",
      "----------------\n",
      "batch 0 when input is tensor([24]) the target is 43\n",
      "batch 0 when input is tensor([24, 43]) the target is 58\n",
      "batch 0 when input is tensor([24, 43, 58]) the target is 5\n",
      "batch 0 when input is tensor([24, 43, 58,  5]) the target is 57\n",
      "batch 0 when input is tensor([24, 43, 58,  5, 57]) the target is 1\n",
      "batch 0 when input is tensor([24, 43, 58,  5, 57,  1]) the target is 46\n",
      "batch 0 when input is tensor([24, 43, 58,  5, 57,  1, 46]) the target is 43\n",
      "batch 0 when input is tensor([24, 43, 58,  5, 57,  1, 46, 43]) the target is 39\n",
      "batch 1 when input is tensor([44]) the target is 53\n",
      "batch 1 when input is tensor([44, 53]) the target is 56\n",
      "batch 1 when input is tensor([44, 53, 56]) the target is 1\n",
      "batch 1 when input is tensor([44, 53, 56,  1]) the target is 58\n",
      "batch 1 when input is tensor([44, 53, 56,  1, 58]) the target is 46\n",
      "batch 1 when input is tensor([44, 53, 56,  1, 58, 46]) the target is 39\n",
      "batch 1 when input is tensor([44, 53, 56,  1, 58, 46, 39]) the target is 58\n",
      "batch 1 when input is tensor([44, 53, 56,  1, 58, 46, 39, 58]) the target is 1\n",
      "batch 2 when input is tensor([52]) the target is 58\n",
      "batch 2 when input is tensor([52, 58]) the target is 1\n",
      "batch 2 when input is tensor([52, 58,  1]) the target is 58\n",
      "batch 2 when input is tensor([52, 58,  1, 58]) the target is 46\n",
      "batch 2 when input is tensor([52, 58,  1, 58, 46]) the target is 39\n",
      "batch 2 when input is tensor([52, 58,  1, 58, 46, 39]) the target is 58\n",
      "batch 2 when input is tensor([52, 58,  1, 58, 46, 39, 58]) the target is 1\n",
      "batch 2 when input is tensor([52, 58,  1, 58, 46, 39, 58,  1]) the target is 46\n",
      "batch 3 when input is tensor([25]) the target is 17\n",
      "batch 3 when input is tensor([25, 17]) the target is 27\n",
      "batch 3 when input is tensor([25, 17, 27]) the target is 10\n",
      "batch 3 when input is tensor([25, 17, 27, 10]) the target is 0\n",
      "batch 3 when input is tensor([25, 17, 27, 10,  0]) the target is 21\n",
      "batch 3 when input is tensor([25, 17, 27, 10,  0, 21]) the target is 1\n",
      "batch 3 when input is tensor([25, 17, 27, 10,  0, 21,  1]) the target is 54\n",
      "batch 3 when input is tensor([25, 17, 27, 10,  0, 21,  1, 54]) the target is 39\n"
     ]
    }
   ],
   "source": [
    "# Now we define batches of blocks for training. This is purely for efficiency reasons because training models on GPUs take the \n",
    "# advantage of parallelism. GPUs are very good at parallelize operations, specially those that are not dependent on each other.\n",
    "torch.manual_seed(1337)\n",
    "batch_size = 4  # how many independent sequences will we process in parallel?\n",
    "block_size = 8  # what is the maximum content length for predictions?\n",
    "\n",
    "\n",
    "def get_batch(split):\n",
    "    # generate a small batch of data of inputs x and targets y\n",
    "    data = train_data if split == 'train' else val_data\n",
    "    ix = torch.randint(len(data) - block_size, (batch_size,))  # gets batch_size random offsets of size block_size\n",
    "    x = torch.stack([data[i:i + block_size] for i in ix])\n",
    "    y = torch.stack([data[i + 1:i + block_size + 1] for i in ix])\n",
    "    return x, y\n",
    "\n",
    "\n",
    "xb, yb = get_batch('train')\n",
    "print(\"inputs:\", xb.shape, xb)\n",
    "print(\"targets:\", yb.shape, yb)\n",
    "print('----------------')\n",
    "\n",
    "for b in range(batch_size):  # batch dimension\n",
    "    for t in range(block_size):  # time dimension\n",
    "        context = xb[b, :t + 1]\n",
    "        target = yb[b, t]\n",
    "        print(f\"batch {b} when input is {context} the target is {target}\")"
   ],
   "metadata": {
    "collapsed": false,
    "ExecuteTime": {
     "end_time": "2024-06-20T00:54:43.033682Z",
     "start_time": "2024-06-20T00:54:42.999654Z"
    }
   },
   "id": "12bf18ac547addde",
   "execution_count": 45
  },
  {
   "cell_type": "code",
   "outputs": [
    {
     "name": "stdout",
     "output_type": "stream",
     "text": [
      "Input to the transformer model:\n",
      "tensor([[24, 43, 58,  5, 57,  1, 46, 43],\n",
      "        [44, 53, 56,  1, 58, 46, 39, 58],\n",
      "        [52, 58,  1, 58, 46, 39, 58,  1],\n",
      "        [25, 17, 27, 10,  0, 21,  1, 54]])\n"
     ]
    }
   ],
   "source": [
    "print(\"Input to the transformer model:\")\n",
    "print(xb)"
   ],
   "metadata": {
    "collapsed": false,
    "ExecuteTime": {
     "end_time": "2024-06-20T00:54:43.038316Z",
     "start_time": "2024-06-20T00:54:43.034444Z"
    }
   },
   "id": "9360f7c83834d4e8",
   "execution_count": 46
  },
  {
   "cell_type": "code",
   "outputs": [
    {
     "name": "stdout",
     "output_type": "stream",
     "text": [
      "torch.Size([32, 65]) (batch size, block size, vocab size)\n",
      "Loss: tensor(4.8786, grad_fn=<NllLossBackward0>)\n",
      "\n",
      "SKIcLT;AcELMoTbvZv C?nq-QE33:CJqkOKH-q;:la!oiywkHjgChzbQ?u!3bLIgwevmyFJGUGp\n",
      "wnYWmnxKWWev-tDqXErVKLgJ\n"
     ]
    }
   ],
   "source": [
    "torch.manual_seed(1337)\n",
    "\n",
    "\n",
    "# This is not GPT yet, this is one of the simples possible language models\n",
    "class BigramLanguageModel(nn.Module):\n",
    "    # This model is ridiculous in the sense it receives the whole sequence of tokens for prediction but\n",
    "    # only uses the last character to predict the next one. This id different from GPT, which uses all the\n",
    "    # tokens to predict the next one.\n",
    "\n",
    "    def __init__(self, vocab_size):\n",
    "        super().__init__()\n",
    "        # each token directly reads off the logits for the next token from a lookup table\n",
    "        self.token_embedding_table = nn.Embedding(vocab_size, vocab_size)\n",
    "\n",
    "    def forward(self, idx, targets=None):\n",
    "        # idx represent a token from the input sequence (xb). For example, if idx is the letter 43 (from the previous example)\n",
    "        # then idx will pluck out the vector corresponding to that row idx from the embeddings matrix as the embeddings\n",
    "        # to represent the token 43.\n",
    "\n",
    "        # B = batch_size, T = time/block_size, C = channel/vocab_size\n",
    "        # The idx and targets are both (B, T) tensor of integers.\n",
    "\n",
    "        # This logits are basically predicting what comes next based on a single token\n",
    "        # In this bigram language model the tokens are not talking to each other (considering the sequence),\n",
    "        # they are just been looked individually to predict the next token.\n",
    "\n",
    "        # Notice how the computation is carried out in parallel for all the batch_size elements\n",
    "        logits = self.token_embedding_table(idx)  # (B, T, C)\n",
    "\n",
    "        if targets is None:\n",
    "            loss = None\n",
    "        else:\n",
    "            # Quality of the logits with respect to the targets. How well are we predicting the next token compared to the\n",
    "            # target tokens (notice the numbers are not between 0 and 1, they are based on the vocabulary integer representations).\n",
    "            # However, to make it work using the functional API we need to reshape the logits as the expected shape by tensor flow.\n",
    "            B, T, C = logits.shape\n",
    "            logits = logits.view(B * T, C)  # Stretch the sequence tokens and batches into a single dimension\n",
    "            targets = targets.view(B * T)  # or -1\n",
    "            loss = F.cross_entropy(logits, targets)\n",
    "\n",
    "        return logits, loss\n",
    "\n",
    "    def generate(self, idx, max_new_tokens):\n",
    "        # B = batch_size, T = time/block_size, C = channel/vocab_size\n",
    "        # idx is (B,T) array of indices in the current context (same input from forward)\n",
    "        # The idea is to generate tokens (..., T+1, T+2, ..., T+max_new_tokens) for each \n",
    "        # batch in B in add to the current context.\n",
    "        for _ in range(max_new_tokens):\n",
    "            # get the predictions\n",
    "            logits, loss = self(idx)  # loss is ignored for generation\n",
    "            # focus only on the last time step, notice the logits become three-dimensional during the loop\n",
    "            logits = logits[:, -1, :]  # Becomes (B, C)\n",
    "            # apply softmax to get probabilities\n",
    "            probs = F.softmax(logits, dim=-1)  # (B, C)\n",
    "            # sample from the distribution\n",
    "            idx_next = torch.multinomial(probs, num_samples=1)  # (B, 1)\n",
    "            # append sampled index to the running sequence\n",
    "            idx = torch.cat((idx, idx_next), dim=1)  # (B, T+1)\n",
    "        return idx\n",
    "\n",
    "\n",
    "m = BigramLanguageModel(vocab_size)\n",
    "logits, loss = m(xb, yb)\n",
    "print(logits.shape, \"(batch size, block size, vocab size)\")\n",
    "print(\"Loss:\", loss)\n",
    "\n",
    "# Generation\n",
    "idx = torch.zeros((1, 1), dtype=torch.long)  # Prompt (1 batch, 1 token)\n",
    "print(decode(m.generate(idx, max_new_tokens=100)[0].tolist()))  # Print all the sequence from the single batch dimension"
   ],
   "metadata": {
    "collapsed": false,
    "ExecuteTime": {
     "end_time": "2024-06-20T00:54:43.053352Z",
     "start_time": "2024-06-20T00:54:43.039962Z"
    }
   },
   "id": "74cd39b8c89f8524",
   "execution_count": 47
  },
  {
   "cell_type": "code",
   "outputs": [
    {
     "name": "stdout",
     "output_type": "stream",
     "text": [
      "4.692410945892334\n",
      "3.7683708667755127\n",
      "3.2364423274993896\n",
      "2.892672061920166\n",
      "2.70308780670166\n",
      "2.513338327407837\n",
      "2.486689329147339\n",
      "2.5133867263793945\n",
      "2.4423880577087402\n",
      "2.3939623832702637\n",
      "Final loss: 2.3796486854553223\n"
     ]
    }
   ],
   "source": [
    "# Create optimizer to train the model, learning rate is usually set to 1e-3, but for smaller networks it could be set a little higher.\n",
    "optimizer = torch.optim.Adam(m.parameters(), lr=1e-3)\n",
    "\n",
    "batch_size = 32\n",
    "for steps in range(10_000):\n",
    "    # sample a batch of data\n",
    "    xb, yb = get_batch('train')\n",
    "\n",
    "    # evaluate the loss\n",
    "    logits, loss = m(xb, yb)\n",
    "    optimizer.zero_grad(set_to_none=True)\n",
    "    loss.backward()\n",
    "    optimizer.step()\n",
    "\n",
    "    if steps % 1000 == 0:\n",
    "        print(loss.item())\n",
    "\n",
    "print(\"Final loss:\", loss.item())"
   ],
   "metadata": {
    "collapsed": false,
    "ExecuteTime": {
     "end_time": "2024-06-20T00:54:48.451406Z",
     "start_time": "2024-06-20T00:54:43.055183Z"
    }
   },
   "id": "2cf8df796630d324",
   "execution_count": 48
  },
  {
   "cell_type": "code",
   "outputs": [
    {
     "name": "stdout",
     "output_type": "stream",
     "text": [
      "\n",
      "llo br. ave aviasurf my, mayo t ivee iuedrd whar ksth y h bora s be hese, woweee; the! KI 'de, ulseecherd d o blllando;\n",
      "\n",
      "Whe, oraingofof win!\n",
      "RIfans picspeserer hee tha,\n",
      "TOFonk? me ain ckntoty dedo bo'llll st ta d:\n",
      "ELIS me hurf lal y, ma dus pe athouo\n",
      "By bre ndy; by s afreanoo adicererupa anse tecor\n"
     ]
    }
   ],
   "source": [
    "# Let's generate again after the model has been trained\n",
    "# This is still not going to be shakespeare, but it should be better than before\n",
    "idx = torch.zeros((1, 1), dtype=torch.long)\n",
    "print(decode(m.generate(idx, max_new_tokens=300)[0].tolist()))"
   ],
   "metadata": {
    "collapsed": false,
    "ExecuteTime": {
     "end_time": "2024-06-20T00:54:48.463883Z",
     "start_time": "2024-06-20T00:54:48.452096Z"
    }
   },
   "id": "903727c72c8f946a",
   "execution_count": 49
  },
  {
   "cell_type": "markdown",
   "source": [
    "# The mathematical trick in self attention"
   ],
   "metadata": {
    "collapsed": false
   },
   "id": "81f954a2758f9de7"
  },
  {
   "cell_type": "code",
   "outputs": [
    {
     "name": "stdout",
     "output_type": "stream",
     "text": [
      "x =  torch.Size([4, 8, 2]) \n",
      "\n",
      "bag of words for b_0 and t_0:\n",
      "tensor([ 0.1808, -0.0700])\n",
      "from sequence\n",
      "tensor([[ 0.1808, -0.0700]])\n",
      "\n",
      "bag of words for b_0 and t_1:\n",
      "tensor([-0.0894, -0.4926])\n",
      "from sequence\n",
      "tensor([[ 0.1808, -0.0700],\n",
      "        [-0.3596, -0.9152]])\n",
      "\n",
      "bag of words for b_0 and t_2:\n",
      "tensor([ 0.1490, -0.3199])\n",
      "from sequence\n",
      "tensor([[ 0.1808, -0.0700],\n",
      "        [-0.3596, -0.9152],\n",
      "        [ 0.6258,  0.0255]])\n",
      "\n",
      "...\n"
     ]
    }
   ],
   "source": [
    "# VERSION 1\n",
    "# consider the toy example to facilitate understanding of the self attention mechanism used by transformers.\n",
    "\n",
    "torch.manual_seed(1337)\n",
    "B, T, C = 4, 8, 2  # batch, time, channels\n",
    "x = torch.randn(B, T, C)\n",
    "print(\"x = \", x.shape, \"\\n\")\n",
    "\n",
    "# Now for this simple example, we want to represent the attention from token T to the previous \n",
    "# tokens T-1 down to 0 by taking the average. This is a simple example of self-attention. This is\n",
    "# faulty because it loses important information about spacial position of the previous tokens in\n",
    "# the sentence. Notice we only calculate the attention for the previous tokens, not the future ones.\n",
    "# We want x[b, t] = mean_{i<=t} x[b, i]\n",
    "xbow = torch.zeros((B, T, C))  #bow = bag of words, a common term when you are averaging over words\n",
    "for b in range(B):  # for each batch\n",
    "    for t in range(T):  # for each token\n",
    "        xprev = x[b, :t + 1]  # (t, C)\n",
    "        xbow[b, t] = torch.mean(xprev, 0)\n",
    "\n",
    "print(f\"bag of words for b_0 and t_0:\\n{xbow[0, 0]}\\nfrom sequence\\n{x[0, :1]}\\n\")\n",
    "print(f\"bag of words for b_0 and t_1:\\n{xbow[0, 1]}\\nfrom sequence\\n{x[0, :2]}\\n\")\n",
    "print(f\"bag of words for b_0 and t_2:\\n{xbow[0, 2]}\\nfrom sequence\\n{x[0, :3]}\\n\")\n",
    "print(\"...\")"
   ],
   "metadata": {
    "collapsed": false,
    "ExecuteTime": {
     "end_time": "2024-06-20T01:39:31.371637Z",
     "start_time": "2024-06-20T01:39:31.364233Z"
    }
   },
   "id": "e00b324f6fc14e16",
   "execution_count": 68
  },
  {
   "cell_type": "code",
   "outputs": [
    {
     "name": "stdout",
     "output_type": "stream",
     "text": [
      "Matrix multiplication:\n",
      "a=\n",
      "tensor([[1., 1., 1.],\n",
      "        [1., 1., 1.],\n",
      "        [1., 1., 1.]])\n",
      "b=\n",
      "tensor([[2., 7.],\n",
      "        [6., 4.],\n",
      "        [6., 5.]])\n",
      "c=\n",
      "tensor([[14., 16.],\n",
      "        [14., 16.],\n",
      "        [14., 16.]])\n",
      "Matrix multiplication with lower triangular:\n",
      "a=\n",
      "tensor([[1., 0., 0.],\n",
      "        [1., 1., 0.],\n",
      "        [1., 1., 1.]])\n",
      "b=\n",
      "tensor([[2., 7.],\n",
      "        [6., 4.],\n",
      "        [6., 5.]])\n",
      "c=\n",
      "tensor([[ 2.,  7.],\n",
      "        [ 8., 11.],\n",
      "        [14., 16.]])\n",
      "Average of the previous tokens:\n",
      "a=\n",
      "tensor([[1.0000, 0.0000, 0.0000],\n",
      "        [0.5000, 0.5000, 0.0000],\n",
      "        [0.3333, 0.3333, 0.3333]])\n",
      "b=\n",
      "tensor([[2., 7.],\n",
      "        [6., 4.],\n",
      "        [6., 5.]])\n",
      "c=\n",
      "tensor([[2.0000, 7.0000],\n",
      "        [4.0000, 5.5000],\n",
      "        [4.6667, 5.3333]])\n"
     ]
    }
   ],
   "source": [
    "# The previous form of calculating the bag of words is not efficient, because it is not parallelized.\n",
    "# The following example shows a more efficient way of achieving the same.\n",
    "# This is the mathematical trick used by the self-attention mechanism in transformers.\n",
    "torch.manual_seed(42)\n",
    "a = torch.ones(3, 3)\n",
    "b = torch.randint(0, 10, (3, 2)).float()\n",
    "c = a @ b\n",
    "print(\"Matrix multiplication:\")\n",
    "print(\"a=\")\n",
    "print(a)\n",
    "print(\"b=\")\n",
    "print(b)\n",
    "print(\"c=\")\n",
    "print(c)\n",
    "\n",
    "a = torch.tril(a)  # this returns the lower triangular part of the matrix\n",
    "c = a @ b\n",
    "print(\"Matrix multiplication with lower triangular:\")\n",
    "print(\"a=\")\n",
    "print(a)\n",
    "print(\"b=\")\n",
    "print(b)\n",
    "print(\"c=\")\n",
    "print(c)\n",
    "\n",
    "# Now, by dividing a by the sum of each row, we can get the average of the previous tokens\n",
    "a = torch.tril(a)\n",
    "a = a / a.sum(-1, keepdim=True)\n",
    "c = a @ b\n",
    "print(\"Average of the previous tokens:\")\n",
    "print(\"a=\")\n",
    "print(a)\n",
    "print(\"b=\")\n",
    "print(b)\n",
    "print(\"c=\")\n",
    "print(c)"
   ],
   "metadata": {
    "collapsed": false,
    "ExecuteTime": {
     "end_time": "2024-06-20T01:49:52.168283Z",
     "start_time": "2024-06-20T01:49:52.151952Z"
    }
   },
   "id": "1fd327fa7592a62",
   "execution_count": 72
  },
  {
   "cell_type": "code",
   "outputs": [
    {
     "name": "stdout",
     "output_type": "stream",
     "text": [
      "tensor([[1.0000, 0.0000, 0.0000, 0.0000, 0.0000, 0.0000, 0.0000, 0.0000],\n",
      "        [0.5000, 0.5000, 0.0000, 0.0000, 0.0000, 0.0000, 0.0000, 0.0000],\n",
      "        [0.3333, 0.3333, 0.3333, 0.0000, 0.0000, 0.0000, 0.0000, 0.0000],\n",
      "        [0.2500, 0.2500, 0.2500, 0.2500, 0.0000, 0.0000, 0.0000, 0.0000],\n",
      "        [0.2000, 0.2000, 0.2000, 0.2000, 0.2000, 0.0000, 0.0000, 0.0000],\n",
      "        [0.1667, 0.1667, 0.1667, 0.1667, 0.1667, 0.1667, 0.0000, 0.0000],\n",
      "        [0.1429, 0.1429, 0.1429, 0.1429, 0.1429, 0.1429, 0.1429, 0.0000],\n",
      "        [0.1250, 0.1250, 0.1250, 0.1250, 0.1250, 0.1250, 0.1250, 0.1250]])\n"
     ]
    },
    {
     "data": {
      "text/plain": "True"
     },
     "execution_count": 78,
     "metadata": {},
     "output_type": "execute_result"
    }
   ],
   "source": [
    "# VERSION 2\n",
    "# Now using the trick from the previous block for the toy example from the before last block\n",
    "wei = torch.tril(torch.ones(T, T))\n",
    "wei = wei / wei.sum(1, keepdim=True)\n",
    "print(wei)\n",
    "xbow2 = wei @ x  # (T, T) @ (B, T, C) = (B, T, C) torch will resolve wei to (1, T, T) and do broadcasting to (B, T, T)\n",
    "torch.allclose(xbow, xbow2)"
   ],
   "metadata": {
    "collapsed": false,
    "ExecuteTime": {
     "end_time": "2024-06-20T01:56:17.148525Z",
     "start_time": "2024-06-20T01:56:17.141393Z"
    }
   },
   "id": "dd6ee50ddbddfb26",
   "execution_count": 78
  },
  {
   "cell_type": "code",
   "outputs": [
    {
     "data": {
      "text/plain": "True"
     },
     "execution_count": 80,
     "metadata": {},
     "output_type": "execute_result"
    }
   ],
   "source": [
    "# VERSION 3: use softmax\n",
    "# This method is more interesting because allows wei to define how much attention we want to give to each token in the \n",
    "# real self-attention mechanism. In other words, when we cross all tokens against all other tokens, the wei will define\n",
    "# how much affinity (or attention) that token should have to the other token.\n",
    "tril = torch.tril(torch.ones(T, T))\n",
    "wei = torch.zeros((T, T))\n",
    "wei = wei.masked_fill(tril == 0, float('-inf'))  # makes all elements where tril == 0 to -inf\n",
    "wei = F.softmax(wei, dim=-1)\n",
    "xbow3 = wei @ x\n",
    "torch.allclose(xbow, xbow3)"
   ],
   "metadata": {
    "collapsed": false,
    "ExecuteTime": {
     "end_time": "2024-06-20T01:59:05.209615Z",
     "start_time": "2024-06-20T01:59:05.201906Z"
    }
   },
   "id": "367dc5d71e6d7e10",
   "execution_count": 80
  },
  {
   "cell_type": "code",
   "outputs": [
    {
     "name": "stdout",
     "output_type": "stream",
     "text": [
      "torch.Size([4, 8, 16])\n",
      "tensor([[1.0000, 0.0000, 0.0000, 0.0000, 0.0000, 0.0000, 0.0000, 0.0000],\n",
      "        [0.3966, 0.6034, 0.0000, 0.0000, 0.0000, 0.0000, 0.0000, 0.0000],\n",
      "        [0.3069, 0.2892, 0.4039, 0.0000, 0.0000, 0.0000, 0.0000, 0.0000],\n",
      "        [0.3233, 0.2175, 0.2443, 0.2149, 0.0000, 0.0000, 0.0000, 0.0000],\n",
      "        [0.1479, 0.2034, 0.1663, 0.1455, 0.3369, 0.0000, 0.0000, 0.0000],\n",
      "        [0.1259, 0.2490, 0.1324, 0.1062, 0.3141, 0.0724, 0.0000, 0.0000],\n",
      "        [0.1598, 0.1990, 0.1140, 0.1125, 0.1418, 0.1669, 0.1061, 0.0000],\n",
      "        [0.0845, 0.1197, 0.1078, 0.1537, 0.1086, 0.1146, 0.1558, 0.1553]],\n",
      "       grad_fn=<SelectBackward0>)\n"
     ]
    }
   ],
   "source": [
    "# VERSION 4: self-attention using Query, Key, Value\n",
    "# There's one query and key for each token, the idea is query ask what is this token looking for in the other tokens, while they\n",
    "# keys represent what how much other token can answer that question for the first token. Then the affinity between the question and\n",
    "# token is used to weight the value of the token.\n",
    "torch.manual_seed(1337)\n",
    "B, T, C = 4, 8, 32  # batch, time, channels\n",
    "x = torch.randn(B, T, C)\n",
    "\n",
    "# let's see a single Head perform self-attention\n",
    "head_size = 16\n",
    "key = nn.Linear(C, head_size, bias=False)\n",
    "query = nn.Linear(C, head_size, bias=False)\n",
    "value = nn.Linear(C, head_size, bias=False)\n",
    "k = key(x)  # (B, T, head_size)\n",
    "q = query(x)  # (B, T, head_size)\n",
    "# wei = affinities, to transpose the last two dimensions (not the batch dimension)\n",
    "wei = q @ k.transpose(-2, -1)  # (B, T, head_size) @ (B, head_size, T) = (B, T, T)\n",
    "# so that the variance is between 0-1 and not between 0-head_size, this helps softmax to avoid\n",
    "# converging to a hot vector if the values are too positive or too negative.\n",
    "wei = wei * head_size ** -0.5\n",
    "\n",
    "tril = torch.tril(torch.ones(T, T))\n",
    "wei = wei.masked_fill(tril == 0, float('-inf'))\n",
    "wei = F.softmax(wei, dim=-1)  # (T, T) how much attention each token should give to the other tokens from the past\n",
    "\n",
    "# x can be seen as private information, and if it happens this token is interesting to another token the value is \n",
    "# actually what is communicated\n",
    "v = value(x)\n",
    "out = wei @ v\n",
    "\n",
    "print(out.shape)\n",
    "print(wei[0])"
   ],
   "metadata": {
    "collapsed": false,
    "ExecuteTime": {
     "end_time": "2024-06-20T02:47:34.218031Z",
     "start_time": "2024-06-20T02:47:34.211960Z"
    }
   },
   "id": "da8ba6904d5cd9a9",
   "execution_count": 87
  },
  {
   "cell_type": "markdown",
   "source": [
    "Notes:\n",
    "* Attention is a *communication mechanism*. Can be seen as nodes in a directed graph looking at each other and aggregating information with a weighted sum from all nodes that point to them, with data-dependent weights.\n",
    "* There is no notion of space. Attention simply acts over a set of vectors. This is why we need to positionally encode tokens.\n",
    "* Each example across batch dimension is of course processed completely independently and never \"talk\" to each other.\n",
    "* In an \"encoder\" attention block just delete the single line that does masking with tril, allowing all tokens to communicate.\n",
    "* Self-attention means the Q, K, and V come from the same source X. But in an encoder-decoder transformer, the \"cross-attention\" in the decoder block means the Q, and V come from X in the decoder block, but K comes from another source, an encoder block."
   ],
   "metadata": {
    "collapsed": false
   },
   "id": "6e797755437075b5"
  }
 ],
 "metadata": {
  "kernelspec": {
   "display_name": "Python 3",
   "language": "python",
   "name": "python3"
  },
  "language_info": {
   "codemirror_mode": {
    "name": "ipython",
    "version": 2
   },
   "file_extension": ".py",
   "mimetype": "text/x-python",
   "name": "python",
   "nbconvert_exporter": "python",
   "pygments_lexer": "ipython2",
   "version": "2.7.6"
  }
 },
 "nbformat": 4,
 "nbformat_minor": 5
}
